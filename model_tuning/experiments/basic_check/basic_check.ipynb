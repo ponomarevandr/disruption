{
 "cells": [
  {
   "cell_type": "code",
   "execution_count": null,
   "id": "c84f2327-a46c-4f68-bfc8-584c621754a3",
   "metadata": {},
   "outputs": [],
   "source": []
  }
 ],
 "metadata": {
  "kernelspec": {
   "display_name": "",
   "name": ""
  },
  "language_info": {
   "name": ""
  }
 },
 "nbformat": 4,
 "nbformat_minor": 5
}
