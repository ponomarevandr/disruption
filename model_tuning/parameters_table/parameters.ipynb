{
 "cells": [
  {
   "cell_type": "code",
   "execution_count": 4,
   "id": "5c8fcfab-be2a-4ee1-9882-193d777da056",
   "metadata": {},
   "outputs": [],
   "source": [
    "%matplotlib inline"
   ]
  },
  {
   "cell_type": "code",
   "execution_count": 23,
   "id": "3d41c2e9-82b3-427d-823f-43ba9539630d",
   "metadata": {},
   "outputs": [],
   "source": [
    "def print_sc(*values):\n",
    "    for value in values:\n",
    "        if (isinstance(value, float)):\n",
    "            print('{:e}'.format(value), end='')\n",
    "        else:\n",
    "            print(value, end='')\n",
    "    print()"
   ]
  },
  {
   "cell_type": "code",
   "execution_count": 24,
   "id": "f207d220-124b-4b06-8148-a709ca0d9c34",
   "metadata": {},
   "outputs": [],
   "source": [
    "# Шаг по пространству\n",
    "h = 5e-07  # м\n",
    "# Характерный размер образца\n",
    "W = 256*h\n",
    "# Ширина размытия\n",
    "l = 3*h\n",
    "# Подвижность\n",
    "m = 12  # м^3/(Дж * с)\n",
    "# Критическая напряжённость электрического поля\n",
    "E_cr = 5.6e+06  # В/м\n",
    "# Критическая диэлектрическая проницаемость\n",
    "eps_cr = 8.85e-12  # Кл^2/(Дж * м)"
   ]
  },
  {
   "cell_type": "code",
   "execution_count": 26,
   "id": "5d4c730b-5d4b-4d2b-80bf-4c23ec122768",
   "metadata": {},
   "outputs": [
    {
     "name": "stdout",
     "output_type": "stream",
     "text": [
      "Gamma_0 = 3.122280e-10 Дж/м\n"
     ]
    }
   ],
   "source": [
    "# Характерная энергия на единицу разрушения\n",
    "Gamma_0 = 0.5 * E_cr**2 * l**2 * eps_cr\n",
    "print_sc('Gamma_0 = ', Gamma_0, ' Дж/м')"
   ]
  },
  {
   "cell_type": "code",
   "execution_count": 27,
   "id": "c538fffc-01fc-4703-a1e7-c39fd6d46e86",
   "metadata": {},
   "outputs": [
    {
     "name": "stdout",
     "output_type": "stream",
     "text": [
      "G_1 = 1.387680e+02 Дж/м^3\n"
     ]
    }
   ],
   "source": [
    "# Характерная энергия электрического поля\n",
    "G_1 = 0.5 * E_cr**2 * eps_cr\n",
    "print_sc('G_1 = ', G_1, ' Дж/м^3')"
   ]
  },
  {
   "cell_type": "code",
   "execution_count": 28,
   "id": "a5b6db81-2ef1-4152-8f3e-7b24662d2aad",
   "metadata": {},
   "outputs": [
    {
     "name": "stdout",
     "output_type": "stream",
     "text": [
      "E_av = 5.625000e+06 В/м\n"
     ]
    }
   ],
   "source": [
    "# Разница потенциалов между верхней и нижней обкладкой\n",
    "Delta_Phi = 720  # В\n",
    "# Среднее электрическое напряжение\n",
    "E_av = Delta_Phi/W\n",
    "print_sc('E_av = ', E_av, ' В/м')"
   ]
  },
  {
   "cell_type": "code",
   "execution_count": 32,
   "id": "c84ce3fd-dbd0-4bfe-a86f-3a7f21f2f557",
   "metadata": {},
   "outputs": [],
   "source": [
    "def xi(Gamma, eps, E):\n",
    "    return 0.5 * E**2 * l**2 * eps / Gamma"
   ]
  },
  {
   "cell_type": "code",
   "execution_count": 36,
   "id": "c342a34e-60a6-4d72-b868-82605f9295d6",
   "metadata": {},
   "outputs": [
    {
     "name": "stdout",
     "output_type": "stream",
     "text": [
      "material 1: xi = 1.008949e+00\n",
      "material 2: xi = 1.008949e+00\n",
      "material 3: xi = 1.008949e+00\n"
     ]
    }
   ],
   "source": [
    "print_sc('material 1: xi = ', xi(2.6*Gamma_0, 2.6*eps_cr, E_av))\n",
    "print_sc('material 2: xi = ', xi(4.6*Gamma_0, 4.6*eps_cr, E_av))\n",
    "print_sc('material 3: xi = ', xi(3.8e+12*Gamma_0, 3.8e+12*eps_cr, E_av))"
   ]
  },
  {
   "cell_type": "code",
   "execution_count": 35,
   "id": "2d092075-0d12-4450-85e1-46257ab63508",
   "metadata": {},
   "outputs": [],
   "source": [
    "def tau_delta_without_delta(Gamma, eps, E):\n",
    "    return 1.0 / (4.0 * m * E**2 * eps)\n",
    "\n",
    "def tau_h(Gamma, eps, E):\n",
    "    return h**2 / (4.0 * m * Gamma)"
   ]
  },
  {
   "cell_type": "code",
   "execution_count": 39,
   "id": "327759df-c2b7-4f7d-aa40-4084c04532ad",
   "metadata": {},
   "outputs": [
    {
     "name": "stdout",
     "output_type": "stream",
     "text": [
      "material 1: tau_delta = 2.861522e-05 * delta^(5/3)\n",
      "material 2: tau_delta = 1.617382e-05 * delta^(5/3)\n",
      "material 3: tau_delta = 1.957883e-17 * delta^(5/3)\n"
     ]
    }
   ],
   "source": [
    "print_sc('material 1: tau_delta = ', tau_delta_without_delta(2.6*Gamma_0, 2.6*eps_cr, E_av), ' * delta^(5/3)')\n",
    "print_sc('material 2: tau_delta = ', tau_delta_without_delta(4.6*Gamma_0, 4.6*eps_cr, E_av), ' * delta^(5/3)')\n",
    "print_sc('material 3: tau_delta = ', tau_delta_without_delta(3.8e+12*Gamma_0, 3.8e+12*eps_cr, E_av), ' * delta^(5/3)')"
   ]
  },
  {
   "cell_type": "code",
   "execution_count": 40,
   "id": "e971b2f3-c845-4985-a9c9-3d35e8e4309e",
   "metadata": {},
   "outputs": [
    {
     "name": "stdout",
     "output_type": "stream",
     "text": [
      "material 1: tau_h = 6.415841e-06\n",
      "material 2: tau_h = 3.626345e-06\n",
      "material 3: tau_h = 4.389786e-18\n"
     ]
    }
   ],
   "source": [
    "print_sc('material 1: tau_h = ', tau_h(2.6*Gamma_0, 2.6*eps_cr, E_av))\n",
    "print_sc('material 2: tau_h = ', tau_h(4.6*Gamma_0, 4.6*eps_cr, E_av))\n",
    "print_sc('material 3: tau_h = ', tau_h(3.8e+12*Gamma_0, 3.8e+12*eps_cr, E_av))"
   ]
  },
  {
   "cell_type": "code",
   "execution_count": null,
   "id": "71389e4c-b661-4327-9b29-61a06774cd81",
   "metadata": {},
   "outputs": [],
   "source": []
  }
 ],
 "metadata": {
  "kernelspec": {
   "display_name": "Python 3 (ipykernel)",
   "language": "python",
   "name": "python3"
  },
  "language_info": {
   "codemirror_mode": {
    "name": "ipython",
    "version": 3
   },
   "file_extension": ".py",
   "mimetype": "text/x-python",
   "name": "python",
   "nbconvert_exporter": "python",
   "pygments_lexer": "ipython3",
   "version": "3.12.3"
  }
 },
 "nbformat": 4,
 "nbformat_minor": 5
}
